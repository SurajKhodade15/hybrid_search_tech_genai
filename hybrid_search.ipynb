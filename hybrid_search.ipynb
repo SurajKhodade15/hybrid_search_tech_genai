{
 "cells": [
  {
   "cell_type": "code",
   "execution_count": null,
   "id": "6e955437",
   "metadata": {},
   "outputs": [],
   "source": [
    "# ✅ --- Configuration & Imports ---\n",
    "from langchain_community.retrievers import PineconeHybridSearchRetriever\n",
    "from langchain_huggingface import HuggingFaceEmbeddings\n",
    "from pinecone import Pinecone, ServerlessSpec\n",
    "from pinecone_text.sparse import BM25Encoder\n",
    "from dotenv import load_dotenv\n",
    "import os\n",
    "import time\n",
    "\n",
    "# --- Load environment variables ---\n",
    "load_dotenv()"
   ]
  },
  {
   "cell_type": "code",
   "execution_count": null,
   "id": "4ec8f250",
   "metadata": {},
   "outputs": [],
   "source": [
    "# --- Securely set your API key ---\n",
    "# ⚠️ Do NOT hardcode API keys in production\n",
    "api_key = os.getenv(\"PINECONE_API_KEY\", \"pcsk_6Wf8pq_3AD2pogNED7sHZx9zRXYPqGqWL2dpcnmTcd5wEdEwQTkaYoMVC9zxDQVvfuVS6V\")\n"
   ]
  },
  {
   "cell_type": "code",
   "execution_count": null,
   "id": "5f53ce65",
   "metadata": {},
   "outputs": [],
   "source": [
    "# --- Initialize Pinecone client ---\\\n",
    "from pinecone import Pinecone\n",
    "pc = Pinecone(api_key=api_key)\n",
    "index_name = \"pinecone-hybrid-search\""
   ]
  },
  {
   "cell_type": "code",
   "execution_count": null,
   "id": "c4d54eef",
   "metadata": {},
   "outputs": [],
   "source": [
    "# --- Create index if not exists ---\n",
    "if index_name not in [idx.name for idx in pc.list_indexes()]:\n",
    "    pc.create_index(\n",
    "        name=index_name,\n",
    "        dimension=384,  # must match embedding dimension\n",
    "        metric=\"dotproduct\",\n",
    "        spec=ServerlessSpec(cloud=\"aws\", region=\"us-east-1\"),\n",
    "    )\n",
    "    print(\"Creating index... waiting for readiness.\")\n",
    "    time.sleep(10)  # allow index provisioning\n",
    "\n",
    "index = pc.Index(index_name)"
   ]
  },
  {
   "cell_type": "code",
   "execution_count": null,
   "id": "4e57991a",
   "metadata": {},
   "outputs": [],
   "source": [
    "# ✅ --- Embeddings & Sparse Encoder ---\n",
    "os.environ[\"HF_TOKEN\"] = os.getenv(\"HF_TOKEN\")"
   ]
  },
  {
   "cell_type": "code",
   "execution_count": null,
   "id": "f9b19aed",
   "metadata": {},
   "outputs": [],
   "source": [
    "# Load sentence-transformer model\n",
    "embeddings = HuggingFaceEmbeddings(model_name=\"all-MiniLM-L6-v2\")"
   ]
  },
  {
   "cell_type": "code",
   "execution_count": null,
   "id": "342e9b2d",
   "metadata": {},
   "outputs": [],
   "source": [
    "# Initialize and train BM25 sparse encoder\n",
    "bm25_encoder = BM25Encoder().default()\n",
    "sentences = [\n",
    "    \"In 2023, I visited Paris\",\n",
    "    \"In 2022, I visited New York\",\n",
    "    \"In 2021, I visited New Orleans\",\n",
    "]\n",
    "bm25_encoder.fit(sentences)\n",
    "bm25_encoder.dump(\"bm25_values.json\")"
   ]
  },
  {
   "cell_type": "code",
   "execution_count": null,
   "id": "2f1eb97e",
   "metadata": {},
   "outputs": [],
   "source": [
    "# Reload encoder (optional step for demo)\n",
    "bm25_encoder = BM25Encoder().load(\"bm25_values.json\")"
   ]
  },
  {
   "cell_type": "code",
   "execution_count": null,
   "id": "c3aa6d04",
   "metadata": {},
   "outputs": [],
   "source": [
    "# ✅ --- Create Hybrid Retriever ---\n",
    "retriever = PineconeHybridSearchRetriever(\n",
    "    embeddings=embeddings,\n",
    "    sparse_encoder=bm25_encoder,\n",
    "    index=index,\n",
    ")\n"
   ]
  },
  {
   "cell_type": "code",
   "execution_count": null,
   "id": "6fcf55ee",
   "metadata": {},
   "outputs": [],
   "source": [
    "# Add text corpus\n",
    "retriever.add_texts(sentences)\n"
   ]
  },
  {
   "cell_type": "code",
   "execution_count": null,
   "id": "9a6a686f",
   "metadata": {},
   "outputs": [],
   "source": [
    "# ✅ --- Query the retriever ---\n",
    "query = \"What city did I visit first?\"\n",
    "results = retriever.invoke(query)\n",
    "\n",
    "# --- Print results ---\n",
    "print(\"\\n🔍 Query:\", query)\n",
    "for i, doc in enumerate(results, 1):\n",
    "    print(f\"{i}. {doc.page_content}\")"
   ]
  },
  {
   "cell_type": "code",
   "execution_count": null,
   "id": "79dcc27d",
   "metadata": {},
   "outputs": [],
   "source": []
  }
 ],
 "metadata": {
  "kernelspec": {
   "display_name": "Python 3",
   "language": "python",
   "name": "python3"
  },
  "language_info": {
   "codemirror_mode": {
    "name": "ipython",
    "version": 3
   },
   "file_extension": ".py",
   "mimetype": "text/x-python",
   "name": "python",
   "nbconvert_exporter": "python",
   "pygments_lexer": "ipython3",
   "version": "3.11.0"
  }
 },
 "nbformat": 4,
 "nbformat_minor": 5
}
